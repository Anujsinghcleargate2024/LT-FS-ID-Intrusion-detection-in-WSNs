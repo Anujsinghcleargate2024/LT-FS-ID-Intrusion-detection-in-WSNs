{
  "nbformat": 4,
  "nbformat_minor": 0,
  "metadata": {
    "colab": {
      "provenance": []
    },
    "kernelspec": {
      "name": "python3",
      "display_name": "Python 3"
    },
    "language_info": {
      "name": "python"
    }
  },
  "cells": [
    {
      "cell_type": "code",
      "execution_count": 1,
      "metadata": {
        "id": "MSStXXmiDqC1"
      },
      "outputs": [],
      "source": [
        "import numpy as np\n",
        "import pandas as pd"
      ]
    },
    {
      "cell_type": "code",
      "source": [
        "df=pd.read_csv('/content/lt smdw.csv',\n",
        "               header=None, na_values='?')"
      ],
      "metadata": {
        "id": "ewbFy9boDtek"
      },
      "execution_count": 4,
      "outputs": []
    },
    {
      "cell_type": "code",
      "source": [
        "df.head()"
      ],
      "metadata": {
        "colab": {
          "base_uri": "https://localhost:8080/",
          "height": 206
        },
        "id": "O1jST8LCEXIv",
        "outputId": "38280add-66d8-480a-8254-25d42ef2bc46"
      },
      "execution_count": 5,
      "outputs": [
        {
          "output_type": "execute_result",
          "data": {
            "text/plain": [
              "      0        1             2             3                     4   5   6  \\\n",
              "0   NaN      NaN           NaN           NaN                   NaN NaN NaN   \n",
              "1   NaN      NaN           NaN           NaN                   NaN NaN NaN   \n",
              "2  Area  Sensing  Transmission     Number of    Number of Barriers NaN NaN   \n",
              "3   NaN    Range         Range  Sensor nodes  Binary Sensing Model NaN NaN   \n",
              "4   NaN      NaN           NaN           NaN  Uniform Distribution NaN NaN   \n",
              "\n",
              "    7   8   9  \n",
              "0 NaN NaN NaN  \n",
              "1 NaN NaN NaN  \n",
              "2 NaN NaN NaN  \n",
              "3 NaN NaN NaN  \n",
              "4 NaN NaN NaN  "
            ],
            "text/html": [
              "\n",
              "  <div id=\"df-9683af49-76a7-475c-889a-e69b51574fe6\">\n",
              "    <div class=\"colab-df-container\">\n",
              "      <div>\n",
              "<style scoped>\n",
              "    .dataframe tbody tr th:only-of-type {\n",
              "        vertical-align: middle;\n",
              "    }\n",
              "\n",
              "    .dataframe tbody tr th {\n",
              "        vertical-align: top;\n",
              "    }\n",
              "\n",
              "    .dataframe thead th {\n",
              "        text-align: right;\n",
              "    }\n",
              "</style>\n",
              "<table border=\"1\" class=\"dataframe\">\n",
              "  <thead>\n",
              "    <tr style=\"text-align: right;\">\n",
              "      <th></th>\n",
              "      <th>0</th>\n",
              "      <th>1</th>\n",
              "      <th>2</th>\n",
              "      <th>3</th>\n",
              "      <th>4</th>\n",
              "      <th>5</th>\n",
              "      <th>6</th>\n",
              "      <th>7</th>\n",
              "      <th>8</th>\n",
              "      <th>9</th>\n",
              "    </tr>\n",
              "  </thead>\n",
              "  <tbody>\n",
              "    <tr>\n",
              "      <th>0</th>\n",
              "      <td>NaN</td>\n",
              "      <td>NaN</td>\n",
              "      <td>NaN</td>\n",
              "      <td>NaN</td>\n",
              "      <td>NaN</td>\n",
              "      <td>NaN</td>\n",
              "      <td>NaN</td>\n",
              "      <td>NaN</td>\n",
              "      <td>NaN</td>\n",
              "      <td>NaN</td>\n",
              "    </tr>\n",
              "    <tr>\n",
              "      <th>1</th>\n",
              "      <td>NaN</td>\n",
              "      <td>NaN</td>\n",
              "      <td>NaN</td>\n",
              "      <td>NaN</td>\n",
              "      <td>NaN</td>\n",
              "      <td>NaN</td>\n",
              "      <td>NaN</td>\n",
              "      <td>NaN</td>\n",
              "      <td>NaN</td>\n",
              "      <td>NaN</td>\n",
              "    </tr>\n",
              "    <tr>\n",
              "      <th>2</th>\n",
              "      <td>Area</td>\n",
              "      <td>Sensing</td>\n",
              "      <td>Transmission</td>\n",
              "      <td>Number of</td>\n",
              "      <td>Number of Barriers</td>\n",
              "      <td>NaN</td>\n",
              "      <td>NaN</td>\n",
              "      <td>NaN</td>\n",
              "      <td>NaN</td>\n",
              "      <td>NaN</td>\n",
              "    </tr>\n",
              "    <tr>\n",
              "      <th>3</th>\n",
              "      <td>NaN</td>\n",
              "      <td>Range</td>\n",
              "      <td>Range</td>\n",
              "      <td>Sensor nodes</td>\n",
              "      <td>Binary Sensing Model</td>\n",
              "      <td>NaN</td>\n",
              "      <td>NaN</td>\n",
              "      <td>NaN</td>\n",
              "      <td>NaN</td>\n",
              "      <td>NaN</td>\n",
              "    </tr>\n",
              "    <tr>\n",
              "      <th>4</th>\n",
              "      <td>NaN</td>\n",
              "      <td>NaN</td>\n",
              "      <td>NaN</td>\n",
              "      <td>NaN</td>\n",
              "      <td>Uniform Distribution</td>\n",
              "      <td>NaN</td>\n",
              "      <td>NaN</td>\n",
              "      <td>NaN</td>\n",
              "      <td>NaN</td>\n",
              "      <td>NaN</td>\n",
              "    </tr>\n",
              "  </tbody>\n",
              "</table>\n",
              "</div>\n",
              "      <button class=\"colab-df-convert\" onclick=\"convertToInteractive('df-9683af49-76a7-475c-889a-e69b51574fe6')\"\n",
              "              title=\"Convert this dataframe to an interactive table.\"\n",
              "              style=\"display:none;\">\n",
              "        \n",
              "  <svg xmlns=\"http://www.w3.org/2000/svg\" height=\"24px\"viewBox=\"0 0 24 24\"\n",
              "       width=\"24px\">\n",
              "    <path d=\"M0 0h24v24H0V0z\" fill=\"none\"/>\n",
              "    <path d=\"M18.56 5.44l.94 2.06.94-2.06 2.06-.94-2.06-.94-.94-2.06-.94 2.06-2.06.94zm-11 1L8.5 8.5l.94-2.06 2.06-.94-2.06-.94L8.5 2.5l-.94 2.06-2.06.94zm10 10l.94 2.06.94-2.06 2.06-.94-2.06-.94-.94-2.06-.94 2.06-2.06.94z\"/><path d=\"M17.41 7.96l-1.37-1.37c-.4-.4-.92-.59-1.43-.59-.52 0-1.04.2-1.43.59L10.3 9.45l-7.72 7.72c-.78.78-.78 2.05 0 2.83L4 21.41c.39.39.9.59 1.41.59.51 0 1.02-.2 1.41-.59l7.78-7.78 2.81-2.81c.8-.78.8-2.07 0-2.86zM5.41 20L4 18.59l7.72-7.72 1.47 1.35L5.41 20z\"/>\n",
              "  </svg>\n",
              "      </button>\n",
              "      \n",
              "  <style>\n",
              "    .colab-df-container {\n",
              "      display:flex;\n",
              "      flex-wrap:wrap;\n",
              "      gap: 12px;\n",
              "    }\n",
              "\n",
              "    .colab-df-convert {\n",
              "      background-color: #E8F0FE;\n",
              "      border: none;\n",
              "      border-radius: 50%;\n",
              "      cursor: pointer;\n",
              "      display: none;\n",
              "      fill: #1967D2;\n",
              "      height: 32px;\n",
              "      padding: 0 0 0 0;\n",
              "      width: 32px;\n",
              "    }\n",
              "\n",
              "    .colab-df-convert:hover {\n",
              "      background-color: #E2EBFA;\n",
              "      box-shadow: 0px 1px 2px rgba(60, 64, 67, 0.3), 0px 1px 3px 1px rgba(60, 64, 67, 0.15);\n",
              "      fill: #174EA6;\n",
              "    }\n",
              "\n",
              "    [theme=dark] .colab-df-convert {\n",
              "      background-color: #3B4455;\n",
              "      fill: #D2E3FC;\n",
              "    }\n",
              "\n",
              "    [theme=dark] .colab-df-convert:hover {\n",
              "      background-color: #434B5C;\n",
              "      box-shadow: 0px 1px 3px 1px rgba(0, 0, 0, 0.15);\n",
              "      filter: drop-shadow(0px 1px 2px rgba(0, 0, 0, 0.3));\n",
              "      fill: #FFFFFF;\n",
              "    }\n",
              "  </style>\n",
              "\n",
              "      <script>\n",
              "        const buttonEl =\n",
              "          document.querySelector('#df-9683af49-76a7-475c-889a-e69b51574fe6 button.colab-df-convert');\n",
              "        buttonEl.style.display =\n",
              "          google.colab.kernel.accessAllowed ? 'block' : 'none';\n",
              "\n",
              "        async function convertToInteractive(key) {\n",
              "          const element = document.querySelector('#df-9683af49-76a7-475c-889a-e69b51574fe6');\n",
              "          const dataTable =\n",
              "            await google.colab.kernel.invokeFunction('convertToInteractive',\n",
              "                                                     [key], {});\n",
              "          if (!dataTable) return;\n",
              "\n",
              "          const docLinkHtml = 'Like what you see? Visit the ' +\n",
              "            '<a target=\"_blank\" href=https://colab.research.google.com/notebooks/data_table.ipynb>data table notebook</a>'\n",
              "            + ' to learn more about interactive tables.';\n",
              "          element.innerHTML = '';\n",
              "          dataTable['output_type'] = 'display_data';\n",
              "          await google.colab.output.renderOutput(dataTable, element);\n",
              "          const docLink = document.createElement('div');\n",
              "          docLink.innerHTML = docLinkHtml;\n",
              "          element.appendChild(docLink);\n",
              "        }\n",
              "      </script>\n",
              "    </div>\n",
              "  </div>\n",
              "  "
            ]
          },
          "metadata": {},
          "execution_count": 5
        }
      ]
    },
    {
      "cell_type": "code",
      "source": [
        "df.isnull().sum()"
      ],
      "metadata": {
        "colab": {
          "base_uri": "https://localhost:8080/"
        },
        "id": "ZwvC0sdtEtSb",
        "outputId": "c0f90fde-c11c-47e4-df66-a8f03226864b"
      },
      "execution_count": 6,
      "outputs": [
        {
          "output_type": "execute_result",
          "data": {
            "text/plain": [
              "0      4\n",
              "1      3\n",
              "2      3\n",
              "3      3\n",
              "4      2\n",
              "5    187\n",
              "6    187\n",
              "7    187\n",
              "8    187\n",
              "9    187\n",
              "dtype: int64"
            ]
          },
          "metadata": {},
          "execution_count": 6
        }
      ]
    },
    {
      "cell_type": "code",
      "source": [
        "from sklearn.impute import SimpleImputer\n",
        "si=SimpleImputer(strategy='most_frequent')\n",
        "df_im=si.fit_transform(df)\n",
        "df_im=pd.DataFrame(df_im)"
      ],
      "metadata": {
        "id": "Ma_tne4xEvXY"
      },
      "execution_count": 7,
      "outputs": []
    },
    {
      "cell_type": "code",
      "source": [
        "df_im.isnull().sum()"
      ],
      "metadata": {
        "colab": {
          "base_uri": "https://localhost:8080/"
        },
        "id": "XoRc-MDNExZV",
        "outputId": "3c24d039-bd88-4d42-a4b7-f045424976c8"
      },
      "execution_count": 8,
      "outputs": [
        {
          "output_type": "execute_result",
          "data": {
            "text/plain": [
              "0    0\n",
              "1    0\n",
              "2    0\n",
              "3    0\n",
              "4    0\n",
              "dtype: int64"
            ]
          },
          "metadata": {},
          "execution_count": 8
        }
      ]
    },
    {
      "cell_type": "code",
      "source": [
        "df_im.shape"
      ],
      "metadata": {
        "colab": {
          "base_uri": "https://localhost:8080/"
        },
        "id": "gjS2NcOdEzCG",
        "outputId": "cbf4a864-0167-42f2-94fb-e89eb7491e0c"
      },
      "execution_count": 9,
      "outputs": [
        {
          "output_type": "execute_result",
          "data": {
            "text/plain": [
              "(187, 5)"
            ]
          },
          "metadata": {},
          "execution_count": 9
        }
      ]
    },
    {
      "cell_type": "code",
      "source": [
        "cols=[0,1,2,3,4]\n",
        "from sklearn.preprocessing import LabelEncoder\n",
        "le=LabelEncoder()\n",
        "for i in cols:\n",
        "  df_im[i]=le.fit_transform(df_im[i])\n",
        "df_im.head()"
      ],
      "metadata": {
        "colab": {
          "base_uri": "https://localhost:8080/",
          "height": 206
        },
        "id": "ZmdhWBVFE08w",
        "outputId": "8e69fd34-1d57-41b5-f786-b343aa812faf"
      },
      "execution_count": 35,
      "outputs": [
        {
          "output_type": "execute_result",
          "data": {
            "text/plain": [
              "   0   1   2   3    4\n",
              "0  0   0   0   0   66\n",
              "1  0   0   0   0   66\n",
              "2  7  27  27  26  123\n",
              "3  0  26  26  27  122\n",
              "4  0   0   0   0  124"
            ],
            "text/html": [
              "\n",
              "  <div id=\"df-5135cc43-d6bb-4732-9343-a446d4b62caf\">\n",
              "    <div class=\"colab-df-container\">\n",
              "      <div>\n",
              "<style scoped>\n",
              "    .dataframe tbody tr th:only-of-type {\n",
              "        vertical-align: middle;\n",
              "    }\n",
              "\n",
              "    .dataframe tbody tr th {\n",
              "        vertical-align: top;\n",
              "    }\n",
              "\n",
              "    .dataframe thead th {\n",
              "        text-align: right;\n",
              "    }\n",
              "</style>\n",
              "<table border=\"1\" class=\"dataframe\">\n",
              "  <thead>\n",
              "    <tr style=\"text-align: right;\">\n",
              "      <th></th>\n",
              "      <th>0</th>\n",
              "      <th>1</th>\n",
              "      <th>2</th>\n",
              "      <th>3</th>\n",
              "      <th>4</th>\n",
              "    </tr>\n",
              "  </thead>\n",
              "  <tbody>\n",
              "    <tr>\n",
              "      <th>0</th>\n",
              "      <td>0</td>\n",
              "      <td>0</td>\n",
              "      <td>0</td>\n",
              "      <td>0</td>\n",
              "      <td>66</td>\n",
              "    </tr>\n",
              "    <tr>\n",
              "      <th>1</th>\n",
              "      <td>0</td>\n",
              "      <td>0</td>\n",
              "      <td>0</td>\n",
              "      <td>0</td>\n",
              "      <td>66</td>\n",
              "    </tr>\n",
              "    <tr>\n",
              "      <th>2</th>\n",
              "      <td>7</td>\n",
              "      <td>27</td>\n",
              "      <td>27</td>\n",
              "      <td>26</td>\n",
              "      <td>123</td>\n",
              "    </tr>\n",
              "    <tr>\n",
              "      <th>3</th>\n",
              "      <td>0</td>\n",
              "      <td>26</td>\n",
              "      <td>26</td>\n",
              "      <td>27</td>\n",
              "      <td>122</td>\n",
              "    </tr>\n",
              "    <tr>\n",
              "      <th>4</th>\n",
              "      <td>0</td>\n",
              "      <td>0</td>\n",
              "      <td>0</td>\n",
              "      <td>0</td>\n",
              "      <td>124</td>\n",
              "    </tr>\n",
              "  </tbody>\n",
              "</table>\n",
              "</div>\n",
              "      <button class=\"colab-df-convert\" onclick=\"convertToInteractive('df-5135cc43-d6bb-4732-9343-a446d4b62caf')\"\n",
              "              title=\"Convert this dataframe to an interactive table.\"\n",
              "              style=\"display:none;\">\n",
              "        \n",
              "  <svg xmlns=\"http://www.w3.org/2000/svg\" height=\"24px\"viewBox=\"0 0 24 24\"\n",
              "       width=\"24px\">\n",
              "    <path d=\"M0 0h24v24H0V0z\" fill=\"none\"/>\n",
              "    <path d=\"M18.56 5.44l.94 2.06.94-2.06 2.06-.94-2.06-.94-.94-2.06-.94 2.06-2.06.94zm-11 1L8.5 8.5l.94-2.06 2.06-.94-2.06-.94L8.5 2.5l-.94 2.06-2.06.94zm10 10l.94 2.06.94-2.06 2.06-.94-2.06-.94-.94-2.06-.94 2.06-2.06.94z\"/><path d=\"M17.41 7.96l-1.37-1.37c-.4-.4-.92-.59-1.43-.59-.52 0-1.04.2-1.43.59L10.3 9.45l-7.72 7.72c-.78.78-.78 2.05 0 2.83L4 21.41c.39.39.9.59 1.41.59.51 0 1.02-.2 1.41-.59l7.78-7.78 2.81-2.81c.8-.78.8-2.07 0-2.86zM5.41 20L4 18.59l7.72-7.72 1.47 1.35L5.41 20z\"/>\n",
              "  </svg>\n",
              "      </button>\n",
              "      \n",
              "  <style>\n",
              "    .colab-df-container {\n",
              "      display:flex;\n",
              "      flex-wrap:wrap;\n",
              "      gap: 12px;\n",
              "    }\n",
              "\n",
              "    .colab-df-convert {\n",
              "      background-color: #E8F0FE;\n",
              "      border: none;\n",
              "      border-radius: 50%;\n",
              "      cursor: pointer;\n",
              "      display: none;\n",
              "      fill: #1967D2;\n",
              "      height: 32px;\n",
              "      padding: 0 0 0 0;\n",
              "      width: 32px;\n",
              "    }\n",
              "\n",
              "    .colab-df-convert:hover {\n",
              "      background-color: #E2EBFA;\n",
              "      box-shadow: 0px 1px 2px rgba(60, 64, 67, 0.3), 0px 1px 3px 1px rgba(60, 64, 67, 0.15);\n",
              "      fill: #174EA6;\n",
              "    }\n",
              "\n",
              "    [theme=dark] .colab-df-convert {\n",
              "      background-color: #3B4455;\n",
              "      fill: #D2E3FC;\n",
              "    }\n",
              "\n",
              "    [theme=dark] .colab-df-convert:hover {\n",
              "      background-color: #434B5C;\n",
              "      box-shadow: 0px 1px 3px 1px rgba(0, 0, 0, 0.15);\n",
              "      filter: drop-shadow(0px 1px 2px rgba(0, 0, 0, 0.3));\n",
              "      fill: #FFFFFF;\n",
              "    }\n",
              "  </style>\n",
              "\n",
              "      <script>\n",
              "        const buttonEl =\n",
              "          document.querySelector('#df-5135cc43-d6bb-4732-9343-a446d4b62caf button.colab-df-convert');\n",
              "        buttonEl.style.display =\n",
              "          google.colab.kernel.accessAllowed ? 'block' : 'none';\n",
              "\n",
              "        async function convertToInteractive(key) {\n",
              "          const element = document.querySelector('#df-5135cc43-d6bb-4732-9343-a446d4b62caf');\n",
              "          const dataTable =\n",
              "            await google.colab.kernel.invokeFunction('convertToInteractive',\n",
              "                                                     [key], {});\n",
              "          if (!dataTable) return;\n",
              "\n",
              "          const docLinkHtml = 'Like what you see? Visit the ' +\n",
              "            '<a target=\"_blank\" href=https://colab.research.google.com/notebooks/data_table.ipynb>data table notebook</a>'\n",
              "            + ' to learn more about interactive tables.';\n",
              "          element.innerHTML = '';\n",
              "          dataTable['output_type'] = 'display_data';\n",
              "          await google.colab.output.renderOutput(dataTable, element);\n",
              "          const docLink = document.createElement('div');\n",
              "          docLink.innerHTML = docLinkHtml;\n",
              "          element.appendChild(docLink);\n",
              "        }\n",
              "      </script>\n",
              "    </div>\n",
              "  </div>\n",
              "  "
            ]
          },
          "metadata": {},
          "execution_count": 35
        }
      ]
    },
    {
      "cell_type": "code",
      "source": [
        "df_im.describe()"
      ],
      "metadata": {
        "colab": {
          "base_uri": "https://localhost:8080/",
          "height": 300
        },
        "id": "kYiKkFx9E20f",
        "outputId": "aee51384-5823-43ad-f8a6-a2331749990b"
      },
      "execution_count": 36,
      "outputs": [
        {
          "output_type": "execute_result",
          "data": {
            "text/plain": [
              "                0           1           2           3           4\n",
              "count  187.000000  187.000000  187.000000  187.000000  187.000000\n",
              "mean     2.957219   12.449198   12.449198   12.449198   62.304813\n",
              "std      2.047366    7.724513    7.724513    7.724513   35.676385\n",
              "min      0.000000    0.000000    0.000000    0.000000    0.000000\n",
              "25%      1.000000    6.000000    6.000000    6.000000   30.500000\n",
              "50%      3.000000   12.000000   12.000000   12.000000   66.000000\n",
              "75%      5.000000   19.000000   19.000000   19.000000   90.500000\n",
              "max      7.000000   27.000000   27.000000   27.000000  124.000000"
            ],
            "text/html": [
              "\n",
              "  <div id=\"df-5d19f397-c350-4741-8bb1-02a1b23f85a5\">\n",
              "    <div class=\"colab-df-container\">\n",
              "      <div>\n",
              "<style scoped>\n",
              "    .dataframe tbody tr th:only-of-type {\n",
              "        vertical-align: middle;\n",
              "    }\n",
              "\n",
              "    .dataframe tbody tr th {\n",
              "        vertical-align: top;\n",
              "    }\n",
              "\n",
              "    .dataframe thead th {\n",
              "        text-align: right;\n",
              "    }\n",
              "</style>\n",
              "<table border=\"1\" class=\"dataframe\">\n",
              "  <thead>\n",
              "    <tr style=\"text-align: right;\">\n",
              "      <th></th>\n",
              "      <th>0</th>\n",
              "      <th>1</th>\n",
              "      <th>2</th>\n",
              "      <th>3</th>\n",
              "      <th>4</th>\n",
              "    </tr>\n",
              "  </thead>\n",
              "  <tbody>\n",
              "    <tr>\n",
              "      <th>count</th>\n",
              "      <td>187.000000</td>\n",
              "      <td>187.000000</td>\n",
              "      <td>187.000000</td>\n",
              "      <td>187.000000</td>\n",
              "      <td>187.000000</td>\n",
              "    </tr>\n",
              "    <tr>\n",
              "      <th>mean</th>\n",
              "      <td>2.957219</td>\n",
              "      <td>12.449198</td>\n",
              "      <td>12.449198</td>\n",
              "      <td>12.449198</td>\n",
              "      <td>62.304813</td>\n",
              "    </tr>\n",
              "    <tr>\n",
              "      <th>std</th>\n",
              "      <td>2.047366</td>\n",
              "      <td>7.724513</td>\n",
              "      <td>7.724513</td>\n",
              "      <td>7.724513</td>\n",
              "      <td>35.676385</td>\n",
              "    </tr>\n",
              "    <tr>\n",
              "      <th>min</th>\n",
              "      <td>0.000000</td>\n",
              "      <td>0.000000</td>\n",
              "      <td>0.000000</td>\n",
              "      <td>0.000000</td>\n",
              "      <td>0.000000</td>\n",
              "    </tr>\n",
              "    <tr>\n",
              "      <th>25%</th>\n",
              "      <td>1.000000</td>\n",
              "      <td>6.000000</td>\n",
              "      <td>6.000000</td>\n",
              "      <td>6.000000</td>\n",
              "      <td>30.500000</td>\n",
              "    </tr>\n",
              "    <tr>\n",
              "      <th>50%</th>\n",
              "      <td>3.000000</td>\n",
              "      <td>12.000000</td>\n",
              "      <td>12.000000</td>\n",
              "      <td>12.000000</td>\n",
              "      <td>66.000000</td>\n",
              "    </tr>\n",
              "    <tr>\n",
              "      <th>75%</th>\n",
              "      <td>5.000000</td>\n",
              "      <td>19.000000</td>\n",
              "      <td>19.000000</td>\n",
              "      <td>19.000000</td>\n",
              "      <td>90.500000</td>\n",
              "    </tr>\n",
              "    <tr>\n",
              "      <th>max</th>\n",
              "      <td>7.000000</td>\n",
              "      <td>27.000000</td>\n",
              "      <td>27.000000</td>\n",
              "      <td>27.000000</td>\n",
              "      <td>124.000000</td>\n",
              "    </tr>\n",
              "  </tbody>\n",
              "</table>\n",
              "</div>\n",
              "      <button class=\"colab-df-convert\" onclick=\"convertToInteractive('df-5d19f397-c350-4741-8bb1-02a1b23f85a5')\"\n",
              "              title=\"Convert this dataframe to an interactive table.\"\n",
              "              style=\"display:none;\">\n",
              "        \n",
              "  <svg xmlns=\"http://www.w3.org/2000/svg\" height=\"24px\"viewBox=\"0 0 24 24\"\n",
              "       width=\"24px\">\n",
              "    <path d=\"M0 0h24v24H0V0z\" fill=\"none\"/>\n",
              "    <path d=\"M18.56 5.44l.94 2.06.94-2.06 2.06-.94-2.06-.94-.94-2.06-.94 2.06-2.06.94zm-11 1L8.5 8.5l.94-2.06 2.06-.94-2.06-.94L8.5 2.5l-.94 2.06-2.06.94zm10 10l.94 2.06.94-2.06 2.06-.94-2.06-.94-.94-2.06-.94 2.06-2.06.94z\"/><path d=\"M17.41 7.96l-1.37-1.37c-.4-.4-.92-.59-1.43-.59-.52 0-1.04.2-1.43.59L10.3 9.45l-7.72 7.72c-.78.78-.78 2.05 0 2.83L4 21.41c.39.39.9.59 1.41.59.51 0 1.02-.2 1.41-.59l7.78-7.78 2.81-2.81c.8-.78.8-2.07 0-2.86zM5.41 20L4 18.59l7.72-7.72 1.47 1.35L5.41 20z\"/>\n",
              "  </svg>\n",
              "      </button>\n",
              "      \n",
              "  <style>\n",
              "    .colab-df-container {\n",
              "      display:flex;\n",
              "      flex-wrap:wrap;\n",
              "      gap: 12px;\n",
              "    }\n",
              "\n",
              "    .colab-df-convert {\n",
              "      background-color: #E8F0FE;\n",
              "      border: none;\n",
              "      border-radius: 50%;\n",
              "      cursor: pointer;\n",
              "      display: none;\n",
              "      fill: #1967D2;\n",
              "      height: 32px;\n",
              "      padding: 0 0 0 0;\n",
              "      width: 32px;\n",
              "    }\n",
              "\n",
              "    .colab-df-convert:hover {\n",
              "      background-color: #E2EBFA;\n",
              "      box-shadow: 0px 1px 2px rgba(60, 64, 67, 0.3), 0px 1px 3px 1px rgba(60, 64, 67, 0.15);\n",
              "      fill: #174EA6;\n",
              "    }\n",
              "\n",
              "    [theme=dark] .colab-df-convert {\n",
              "      background-color: #3B4455;\n",
              "      fill: #D2E3FC;\n",
              "    }\n",
              "\n",
              "    [theme=dark] .colab-df-convert:hover {\n",
              "      background-color: #434B5C;\n",
              "      box-shadow: 0px 1px 3px 1px rgba(0, 0, 0, 0.15);\n",
              "      filter: drop-shadow(0px 1px 2px rgba(0, 0, 0, 0.3));\n",
              "      fill: #FFFFFF;\n",
              "    }\n",
              "  </style>\n",
              "\n",
              "      <script>\n",
              "        const buttonEl =\n",
              "          document.querySelector('#df-5d19f397-c350-4741-8bb1-02a1b23f85a5 button.colab-df-convert');\n",
              "        buttonEl.style.display =\n",
              "          google.colab.kernel.accessAllowed ? 'block' : 'none';\n",
              "\n",
              "        async function convertToInteractive(key) {\n",
              "          const element = document.querySelector('#df-5d19f397-c350-4741-8bb1-02a1b23f85a5');\n",
              "          const dataTable =\n",
              "            await google.colab.kernel.invokeFunction('convertToInteractive',\n",
              "                                                     [key], {});\n",
              "          if (!dataTable) return;\n",
              "\n",
              "          const docLinkHtml = 'Like what you see? Visit the ' +\n",
              "            '<a target=\"_blank\" href=https://colab.research.google.com/notebooks/data_table.ipynb>data table notebook</a>'\n",
              "            + ' to learn more about interactive tables.';\n",
              "          element.innerHTML = '';\n",
              "          dataTable['output_type'] = 'display_data';\n",
              "          await google.colab.output.renderOutput(dataTable, element);\n",
              "          const docLink = document.createElement('div');\n",
              "          docLink.innerHTML = docLinkHtml;\n",
              "          element.appendChild(docLink);\n",
              "        }\n",
              "      </script>\n",
              "    </div>\n",
              "  </div>\n",
              "  "
            ]
          },
          "metadata": {},
          "execution_count": 36
        }
      ]
    },
    {
      "cell_type": "code",
      "source": [
        "target=df_im[0]"
      ],
      "metadata": {
        "id": "lWaioG0DFlX9"
      },
      "execution_count": 16,
      "outputs": []
    },
    {
      "cell_type": "code",
      "source": [
        "target.shape"
      ],
      "metadata": {
        "colab": {
          "base_uri": "https://localhost:8080/"
        },
        "id": "2mm61kb2Fnny",
        "outputId": "fe7e099a-ee4c-4e8a-81b5-b0bd811b52c9"
      },
      "execution_count": 17,
      "outputs": [
        {
          "output_type": "execute_result",
          "data": {
            "text/plain": [
              "(187,)"
            ]
          },
          "metadata": {},
          "execution_count": 17
        }
      ]
    },
    {
      "cell_type": "code",
      "source": [
        "data=df_im.drop(columns=[0])"
      ],
      "metadata": {
        "id": "CMqe-VLGFpcs"
      },
      "execution_count": 18,
      "outputs": []
    },
    {
      "cell_type": "code",
      "source": [
        "data.shape"
      ],
      "metadata": {
        "colab": {
          "base_uri": "https://localhost:8080/"
        },
        "id": "irB_FBEPFrOt",
        "outputId": "b8ef51f4-67ce-4059-a13b-76ea376b6d63"
      },
      "execution_count": 19,
      "outputs": [
        {
          "output_type": "execute_result",
          "data": {
            "text/plain": [
              "(187, 4)"
            ]
          },
          "metadata": {},
          "execution_count": 19
        }
      ]
    },
    {
      "cell_type": "code",
      "source": [
        "data.head()"
      ],
      "metadata": {
        "colab": {
          "base_uri": "https://localhost:8080/",
          "height": 206
        },
        "id": "v81TYA4BFs8R",
        "outputId": "03d25eb5-f222-405f-899f-1562b9c32348"
      },
      "execution_count": 20,
      "outputs": [
        {
          "output_type": "execute_result",
          "data": {
            "text/plain": [
              "    1   2   3    4\n",
              "0   0   0   0   66\n",
              "1   0   0   0   66\n",
              "2  27  27  26  123\n",
              "3  26  26  27  122\n",
              "4   0   0   0  124"
            ],
            "text/html": [
              "\n",
              "  <div id=\"df-caac2179-cc0f-41fb-a457-705520d8b1c5\">\n",
              "    <div class=\"colab-df-container\">\n",
              "      <div>\n",
              "<style scoped>\n",
              "    .dataframe tbody tr th:only-of-type {\n",
              "        vertical-align: middle;\n",
              "    }\n",
              "\n",
              "    .dataframe tbody tr th {\n",
              "        vertical-align: top;\n",
              "    }\n",
              "\n",
              "    .dataframe thead th {\n",
              "        text-align: right;\n",
              "    }\n",
              "</style>\n",
              "<table border=\"1\" class=\"dataframe\">\n",
              "  <thead>\n",
              "    <tr style=\"text-align: right;\">\n",
              "      <th></th>\n",
              "      <th>1</th>\n",
              "      <th>2</th>\n",
              "      <th>3</th>\n",
              "      <th>4</th>\n",
              "    </tr>\n",
              "  </thead>\n",
              "  <tbody>\n",
              "    <tr>\n",
              "      <th>0</th>\n",
              "      <td>0</td>\n",
              "      <td>0</td>\n",
              "      <td>0</td>\n",
              "      <td>66</td>\n",
              "    </tr>\n",
              "    <tr>\n",
              "      <th>1</th>\n",
              "      <td>0</td>\n",
              "      <td>0</td>\n",
              "      <td>0</td>\n",
              "      <td>66</td>\n",
              "    </tr>\n",
              "    <tr>\n",
              "      <th>2</th>\n",
              "      <td>27</td>\n",
              "      <td>27</td>\n",
              "      <td>26</td>\n",
              "      <td>123</td>\n",
              "    </tr>\n",
              "    <tr>\n",
              "      <th>3</th>\n",
              "      <td>26</td>\n",
              "      <td>26</td>\n",
              "      <td>27</td>\n",
              "      <td>122</td>\n",
              "    </tr>\n",
              "    <tr>\n",
              "      <th>4</th>\n",
              "      <td>0</td>\n",
              "      <td>0</td>\n",
              "      <td>0</td>\n",
              "      <td>124</td>\n",
              "    </tr>\n",
              "  </tbody>\n",
              "</table>\n",
              "</div>\n",
              "      <button class=\"colab-df-convert\" onclick=\"convertToInteractive('df-caac2179-cc0f-41fb-a457-705520d8b1c5')\"\n",
              "              title=\"Convert this dataframe to an interactive table.\"\n",
              "              style=\"display:none;\">\n",
              "        \n",
              "  <svg xmlns=\"http://www.w3.org/2000/svg\" height=\"24px\"viewBox=\"0 0 24 24\"\n",
              "       width=\"24px\">\n",
              "    <path d=\"M0 0h24v24H0V0z\" fill=\"none\"/>\n",
              "    <path d=\"M18.56 5.44l.94 2.06.94-2.06 2.06-.94-2.06-.94-.94-2.06-.94 2.06-2.06.94zm-11 1L8.5 8.5l.94-2.06 2.06-.94-2.06-.94L8.5 2.5l-.94 2.06-2.06.94zm10 10l.94 2.06.94-2.06 2.06-.94-2.06-.94-.94-2.06-.94 2.06-2.06.94z\"/><path d=\"M17.41 7.96l-1.37-1.37c-.4-.4-.92-.59-1.43-.59-.52 0-1.04.2-1.43.59L10.3 9.45l-7.72 7.72c-.78.78-.78 2.05 0 2.83L4 21.41c.39.39.9.59 1.41.59.51 0 1.02-.2 1.41-.59l7.78-7.78 2.81-2.81c.8-.78.8-2.07 0-2.86zM5.41 20L4 18.59l7.72-7.72 1.47 1.35L5.41 20z\"/>\n",
              "  </svg>\n",
              "      </button>\n",
              "      \n",
              "  <style>\n",
              "    .colab-df-container {\n",
              "      display:flex;\n",
              "      flex-wrap:wrap;\n",
              "      gap: 12px;\n",
              "    }\n",
              "\n",
              "    .colab-df-convert {\n",
              "      background-color: #E8F0FE;\n",
              "      border: none;\n",
              "      border-radius: 50%;\n",
              "      cursor: pointer;\n",
              "      display: none;\n",
              "      fill: #1967D2;\n",
              "      height: 32px;\n",
              "      padding: 0 0 0 0;\n",
              "      width: 32px;\n",
              "    }\n",
              "\n",
              "    .colab-df-convert:hover {\n",
              "      background-color: #E2EBFA;\n",
              "      box-shadow: 0px 1px 2px rgba(60, 64, 67, 0.3), 0px 1px 3px 1px rgba(60, 64, 67, 0.15);\n",
              "      fill: #174EA6;\n",
              "    }\n",
              "\n",
              "    [theme=dark] .colab-df-convert {\n",
              "      background-color: #3B4455;\n",
              "      fill: #D2E3FC;\n",
              "    }\n",
              "\n",
              "    [theme=dark] .colab-df-convert:hover {\n",
              "      background-color: #434B5C;\n",
              "      box-shadow: 0px 1px 3px 1px rgba(0, 0, 0, 0.15);\n",
              "      filter: drop-shadow(0px 1px 2px rgba(0, 0, 0, 0.3));\n",
              "      fill: #FFFFFF;\n",
              "    }\n",
              "  </style>\n",
              "\n",
              "      <script>\n",
              "        const buttonEl =\n",
              "          document.querySelector('#df-caac2179-cc0f-41fb-a457-705520d8b1c5 button.colab-df-convert');\n",
              "        buttonEl.style.display =\n",
              "          google.colab.kernel.accessAllowed ? 'block' : 'none';\n",
              "\n",
              "        async function convertToInteractive(key) {\n",
              "          const element = document.querySelector('#df-caac2179-cc0f-41fb-a457-705520d8b1c5');\n",
              "          const dataTable =\n",
              "            await google.colab.kernel.invokeFunction('convertToInteractive',\n",
              "                                                     [key], {});\n",
              "          if (!dataTable) return;\n",
              "\n",
              "          const docLinkHtml = 'Like what you see? Visit the ' +\n",
              "            '<a target=\"_blank\" href=https://colab.research.google.com/notebooks/data_table.ipynb>data table notebook</a>'\n",
              "            + ' to learn more about interactive tables.';\n",
              "          element.innerHTML = '';\n",
              "          dataTable['output_type'] = 'display_data';\n",
              "          await google.colab.output.renderOutput(dataTable, element);\n",
              "          const docLink = document.createElement('div');\n",
              "          docLink.innerHTML = docLinkHtml;\n",
              "          element.appendChild(docLink);\n",
              "        }\n",
              "      </script>\n",
              "    </div>\n",
              "  </div>\n",
              "  "
            ]
          },
          "metadata": {},
          "execution_count": 20
        }
      ]
    },
    {
      "cell_type": "code",
      "source": [
        "from sklearn.model_selection import train_test_split\n",
        "x_train,x_test,y_train,y_test=train_test_split(data, target, test_size=0.25)"
      ],
      "metadata": {
        "id": "_ErX3cSRFu_H"
      },
      "execution_count": 21,
      "outputs": []
    },
    {
      "cell_type": "code",
      "source": [
        "x_train.shape"
      ],
      "metadata": {
        "colab": {
          "base_uri": "https://localhost:8080/"
        },
        "id": "QJkLxPx8F4Ed",
        "outputId": "b3fe619f-073e-4323-be6f-eba0ffbb24a0"
      },
      "execution_count": 22,
      "outputs": [
        {
          "output_type": "execute_result",
          "data": {
            "text/plain": [
              "(140, 4)"
            ]
          },
          "metadata": {},
          "execution_count": 22
        }
      ]
    },
    {
      "cell_type": "code",
      "source": [],
      "metadata": {
        "id": "3GfhvYTUF6SC"
      },
      "execution_count": 28,
      "outputs": []
    },
    {
      "cell_type": "code",
      "source": [
        "x_test.shape"
      ],
      "metadata": {
        "colab": {
          "base_uri": "https://localhost:8080/"
        },
        "id": "N9azHamsF77Z",
        "outputId": "a6f28e2c-c3c9-4ebc-cf11-8524e75e9552"
      },
      "execution_count": 24,
      "outputs": [
        {
          "output_type": "execute_result",
          "data": {
            "text/plain": [
              "(47, 4)"
            ]
          },
          "metadata": {},
          "execution_count": 24
        }
      ]
    },
    {
      "cell_type": "code",
      "source": [
        "from sklearn.linear_model import Perceptron"
      ],
      "metadata": {
        "id": "ENvJl29-F9yL"
      },
      "execution_count": 37,
      "outputs": []
    },
    {
      "cell_type": "code",
      "source": [
        "p=Perceptron(penalty='l2')"
      ],
      "metadata": {
        "id": "pVUUBlq3GFvZ"
      },
      "execution_count": 47,
      "outputs": []
    },
    {
      "cell_type": "code",
      "source": [
        "p.fit(x_train,y_train)"
      ],
      "metadata": {
        "colab": {
          "base_uri": "https://localhost:8080/",
          "height": 74
        },
        "id": "bNm4zZJZGALP",
        "outputId": "1c412ee5-6005-4b25-da89-2770989ab990"
      },
      "execution_count": 48,
      "outputs": [
        {
          "output_type": "execute_result",
          "data": {
            "text/plain": [
              "Perceptron(penalty='l2')"
            ],
            "text/html": [
              "<style>#sk-container-id-1 {color: black;background-color: white;}#sk-container-id-1 pre{padding: 0;}#sk-container-id-1 div.sk-toggleable {background-color: white;}#sk-container-id-1 label.sk-toggleable__label {cursor: pointer;display: block;width: 100%;margin-bottom: 0;padding: 0.3em;box-sizing: border-box;text-align: center;}#sk-container-id-1 label.sk-toggleable__label-arrow:before {content: \"▸\";float: left;margin-right: 0.25em;color: #696969;}#sk-container-id-1 label.sk-toggleable__label-arrow:hover:before {color: black;}#sk-container-id-1 div.sk-estimator:hover label.sk-toggleable__label-arrow:before {color: black;}#sk-container-id-1 div.sk-toggleable__content {max-height: 0;max-width: 0;overflow: hidden;text-align: left;background-color: #f0f8ff;}#sk-container-id-1 div.sk-toggleable__content pre {margin: 0.2em;color: black;border-radius: 0.25em;background-color: #f0f8ff;}#sk-container-id-1 input.sk-toggleable__control:checked~div.sk-toggleable__content {max-height: 200px;max-width: 100%;overflow: auto;}#sk-container-id-1 input.sk-toggleable__control:checked~label.sk-toggleable__label-arrow:before {content: \"▾\";}#sk-container-id-1 div.sk-estimator input.sk-toggleable__control:checked~label.sk-toggleable__label {background-color: #d4ebff;}#sk-container-id-1 div.sk-label input.sk-toggleable__control:checked~label.sk-toggleable__label {background-color: #d4ebff;}#sk-container-id-1 input.sk-hidden--visually {border: 0;clip: rect(1px 1px 1px 1px);clip: rect(1px, 1px, 1px, 1px);height: 1px;margin: -1px;overflow: hidden;padding: 0;position: absolute;width: 1px;}#sk-container-id-1 div.sk-estimator {font-family: monospace;background-color: #f0f8ff;border: 1px dotted black;border-radius: 0.25em;box-sizing: border-box;margin-bottom: 0.5em;}#sk-container-id-1 div.sk-estimator:hover {background-color: #d4ebff;}#sk-container-id-1 div.sk-parallel-item::after {content: \"\";width: 100%;border-bottom: 1px solid gray;flex-grow: 1;}#sk-container-id-1 div.sk-label:hover label.sk-toggleable__label {background-color: #d4ebff;}#sk-container-id-1 div.sk-serial::before {content: \"\";position: absolute;border-left: 1px solid gray;box-sizing: border-box;top: 0;bottom: 0;left: 50%;z-index: 0;}#sk-container-id-1 div.sk-serial {display: flex;flex-direction: column;align-items: center;background-color: white;padding-right: 0.2em;padding-left: 0.2em;position: relative;}#sk-container-id-1 div.sk-item {position: relative;z-index: 1;}#sk-container-id-1 div.sk-parallel {display: flex;align-items: stretch;justify-content: center;background-color: white;position: relative;}#sk-container-id-1 div.sk-item::before, #sk-container-id-1 div.sk-parallel-item::before {content: \"\";position: absolute;border-left: 1px solid gray;box-sizing: border-box;top: 0;bottom: 0;left: 50%;z-index: -1;}#sk-container-id-1 div.sk-parallel-item {display: flex;flex-direction: column;z-index: 1;position: relative;background-color: white;}#sk-container-id-1 div.sk-parallel-item:first-child::after {align-self: flex-end;width: 50%;}#sk-container-id-1 div.sk-parallel-item:last-child::after {align-self: flex-start;width: 50%;}#sk-container-id-1 div.sk-parallel-item:only-child::after {width: 0;}#sk-container-id-1 div.sk-dashed-wrapped {border: 1px dashed gray;margin: 0 0.4em 0.5em 0.4em;box-sizing: border-box;padding-bottom: 0.4em;background-color: white;}#sk-container-id-1 div.sk-label label {font-family: monospace;font-weight: bold;display: inline-block;line-height: 1.2em;}#sk-container-id-1 div.sk-label-container {text-align: center;}#sk-container-id-1 div.sk-container {/* jupyter's `normalize.less` sets `[hidden] { display: none; }` but bootstrap.min.css set `[hidden] { display: none !important; }` so we also need the `!important` here to be able to override the default hidden behavior on the sphinx rendered scikit-learn.org. See: https://github.com/scikit-learn/scikit-learn/issues/21755 */display: inline-block !important;position: relative;}#sk-container-id-1 div.sk-text-repr-fallback {display: none;}</style><div id=\"sk-container-id-1\" class=\"sk-top-container\"><div class=\"sk-text-repr-fallback\"><pre>Perceptron(penalty=&#x27;l2&#x27;)</pre><b>In a Jupyter environment, please rerun this cell to show the HTML representation or trust the notebook. <br />On GitHub, the HTML representation is unable to render, please try loading this page with nbviewer.org.</b></div><div class=\"sk-container\" hidden><div class=\"sk-item\"><div class=\"sk-estimator sk-toggleable\"><input class=\"sk-toggleable__control sk-hidden--visually\" id=\"sk-estimator-id-1\" type=\"checkbox\" checked><label for=\"sk-estimator-id-1\" class=\"sk-toggleable__label sk-toggleable__label-arrow\">Perceptron</label><div class=\"sk-toggleable__content\"><pre>Perceptron(penalty=&#x27;l2&#x27;)</pre></div></div></div></div></div>"
            ]
          },
          "metadata": {},
          "execution_count": 48
        }
      ]
    },
    {
      "cell_type": "code",
      "source": [
        "from sklearn.metrics import accuracy_score"
      ],
      "metadata": {
        "id": "TyZy38uNGB10"
      },
      "execution_count": 49,
      "outputs": []
    },
    {
      "cell_type": "code",
      "source": [
        "p_train_pred=p.predict(x_train)"
      ],
      "metadata": {
        "id": "8vk38UvUG8VK"
      },
      "execution_count": 50,
      "outputs": []
    },
    {
      "cell_type": "code",
      "source": [
        "p_test_pred=p.predict(x_test)"
      ],
      "metadata": {
        "id": "ir97xP4qHAIo"
      },
      "execution_count": 51,
      "outputs": []
    },
    {
      "cell_type": "code",
      "source": [
        "print(\"training accuracy: \", accuracy_score(p_train_pred, y_train))"
      ],
      "metadata": {
        "colab": {
          "base_uri": "https://localhost:8080/"
        },
        "id": "Q_pLvP_VJ4Qg",
        "outputId": "dc667f3f-887b-43a9-8734-4467fc191149"
      },
      "execution_count": 58,
      "outputs": [
        {
          "output_type": "stream",
          "name": "stdout",
          "text": [
            "training accuracy:  0.15\n"
          ]
        }
      ]
    },
    {
      "cell_type": "code",
      "source": [
        "print('Testing accuracy: ', accuracy_score(p_test_pred, y_test))"
      ],
      "metadata": {
        "colab": {
          "base_uri": "https://localhost:8080/"
        },
        "id": "oGjn-QKfKBnN",
        "outputId": "dbe4fba7-c3e5-4974-d506-f0a5bd0a6f57"
      },
      "execution_count": 57,
      "outputs": [
        {
          "output_type": "stream",
          "name": "stdout",
          "text": [
            "Testing accuracy:  0.10638297872340426\n"
          ]
        }
      ]
    },
    {
      "cell_type": "code",
      "source": [
        "from sklearn.linear_model import LogisticRegression"
      ],
      "metadata": {
        "id": "h46HAIATKc-P"
      },
      "execution_count": 59,
      "outputs": []
    },
    {
      "cell_type": "code",
      "source": [
        "lr=LogisticRegression()"
      ],
      "metadata": {
        "id": "KvH29CX6KkrC"
      },
      "execution_count": 60,
      "outputs": []
    },
    {
      "cell_type": "code",
      "source": [
        "lr.fit(x_train, y_train)"
      ],
      "metadata": {
        "colab": {
          "base_uri": "https://localhost:8080/",
          "height": 237
        },
        "id": "-4PqECckKnBC",
        "outputId": "e554536a-d44b-43e8-fb41-4483386a67b0"
      },
      "execution_count": 61,
      "outputs": [
        {
          "output_type": "stream",
          "name": "stderr",
          "text": [
            "/usr/local/lib/python3.9/dist-packages/sklearn/linear_model/_logistic.py:458: ConvergenceWarning: lbfgs failed to converge (status=1):\n",
            "STOP: TOTAL NO. of ITERATIONS REACHED LIMIT.\n",
            "\n",
            "Increase the number of iterations (max_iter) or scale the data as shown in:\n",
            "    https://scikit-learn.org/stable/modules/preprocessing.html\n",
            "Please also refer to the documentation for alternative solver options:\n",
            "    https://scikit-learn.org/stable/modules/linear_model.html#logistic-regression\n",
            "  n_iter_i = _check_optimize_result(\n"
          ]
        },
        {
          "output_type": "execute_result",
          "data": {
            "text/plain": [
              "LogisticRegression()"
            ],
            "text/html": [
              "<style>#sk-container-id-2 {color: black;background-color: white;}#sk-container-id-2 pre{padding: 0;}#sk-container-id-2 div.sk-toggleable {background-color: white;}#sk-container-id-2 label.sk-toggleable__label {cursor: pointer;display: block;width: 100%;margin-bottom: 0;padding: 0.3em;box-sizing: border-box;text-align: center;}#sk-container-id-2 label.sk-toggleable__label-arrow:before {content: \"▸\";float: left;margin-right: 0.25em;color: #696969;}#sk-container-id-2 label.sk-toggleable__label-arrow:hover:before {color: black;}#sk-container-id-2 div.sk-estimator:hover label.sk-toggleable__label-arrow:before {color: black;}#sk-container-id-2 div.sk-toggleable__content {max-height: 0;max-width: 0;overflow: hidden;text-align: left;background-color: #f0f8ff;}#sk-container-id-2 div.sk-toggleable__content pre {margin: 0.2em;color: black;border-radius: 0.25em;background-color: #f0f8ff;}#sk-container-id-2 input.sk-toggleable__control:checked~div.sk-toggleable__content {max-height: 200px;max-width: 100%;overflow: auto;}#sk-container-id-2 input.sk-toggleable__control:checked~label.sk-toggleable__label-arrow:before {content: \"▾\";}#sk-container-id-2 div.sk-estimator input.sk-toggleable__control:checked~label.sk-toggleable__label {background-color: #d4ebff;}#sk-container-id-2 div.sk-label input.sk-toggleable__control:checked~label.sk-toggleable__label {background-color: #d4ebff;}#sk-container-id-2 input.sk-hidden--visually {border: 0;clip: rect(1px 1px 1px 1px);clip: rect(1px, 1px, 1px, 1px);height: 1px;margin: -1px;overflow: hidden;padding: 0;position: absolute;width: 1px;}#sk-container-id-2 div.sk-estimator {font-family: monospace;background-color: #f0f8ff;border: 1px dotted black;border-radius: 0.25em;box-sizing: border-box;margin-bottom: 0.5em;}#sk-container-id-2 div.sk-estimator:hover {background-color: #d4ebff;}#sk-container-id-2 div.sk-parallel-item::after {content: \"\";width: 100%;border-bottom: 1px solid gray;flex-grow: 1;}#sk-container-id-2 div.sk-label:hover label.sk-toggleable__label {background-color: #d4ebff;}#sk-container-id-2 div.sk-serial::before {content: \"\";position: absolute;border-left: 1px solid gray;box-sizing: border-box;top: 0;bottom: 0;left: 50%;z-index: 0;}#sk-container-id-2 div.sk-serial {display: flex;flex-direction: column;align-items: center;background-color: white;padding-right: 0.2em;padding-left: 0.2em;position: relative;}#sk-container-id-2 div.sk-item {position: relative;z-index: 1;}#sk-container-id-2 div.sk-parallel {display: flex;align-items: stretch;justify-content: center;background-color: white;position: relative;}#sk-container-id-2 div.sk-item::before, #sk-container-id-2 div.sk-parallel-item::before {content: \"\";position: absolute;border-left: 1px solid gray;box-sizing: border-box;top: 0;bottom: 0;left: 50%;z-index: -1;}#sk-container-id-2 div.sk-parallel-item {display: flex;flex-direction: column;z-index: 1;position: relative;background-color: white;}#sk-container-id-2 div.sk-parallel-item:first-child::after {align-self: flex-end;width: 50%;}#sk-container-id-2 div.sk-parallel-item:last-child::after {align-self: flex-start;width: 50%;}#sk-container-id-2 div.sk-parallel-item:only-child::after {width: 0;}#sk-container-id-2 div.sk-dashed-wrapped {border: 1px dashed gray;margin: 0 0.4em 0.5em 0.4em;box-sizing: border-box;padding-bottom: 0.4em;background-color: white;}#sk-container-id-2 div.sk-label label {font-family: monospace;font-weight: bold;display: inline-block;line-height: 1.2em;}#sk-container-id-2 div.sk-label-container {text-align: center;}#sk-container-id-2 div.sk-container {/* jupyter's `normalize.less` sets `[hidden] { display: none; }` but bootstrap.min.css set `[hidden] { display: none !important; }` so we also need the `!important` here to be able to override the default hidden behavior on the sphinx rendered scikit-learn.org. See: https://github.com/scikit-learn/scikit-learn/issues/21755 */display: inline-block !important;position: relative;}#sk-container-id-2 div.sk-text-repr-fallback {display: none;}</style><div id=\"sk-container-id-2\" class=\"sk-top-container\"><div class=\"sk-text-repr-fallback\"><pre>LogisticRegression()</pre><b>In a Jupyter environment, please rerun this cell to show the HTML representation or trust the notebook. <br />On GitHub, the HTML representation is unable to render, please try loading this page with nbviewer.org.</b></div><div class=\"sk-container\" hidden><div class=\"sk-item\"><div class=\"sk-estimator sk-toggleable\"><input class=\"sk-toggleable__control sk-hidden--visually\" id=\"sk-estimator-id-2\" type=\"checkbox\" checked><label for=\"sk-estimator-id-2\" class=\"sk-toggleable__label sk-toggleable__label-arrow\">LogisticRegression</label><div class=\"sk-toggleable__content\"><pre>LogisticRegression()</pre></div></div></div></div></div>"
            ]
          },
          "metadata": {},
          "execution_count": 61
        }
      ]
    },
    {
      "cell_type": "code",
      "source": [
        "lr_train_pred=lr.predict(x_train)"
      ],
      "metadata": {
        "id": "_bh1M9FNKol8"
      },
      "execution_count": 62,
      "outputs": []
    },
    {
      "cell_type": "code",
      "source": [
        "lr_test_pred=lr.predict(x_test)"
      ],
      "metadata": {
        "id": "r3CsMaLlKrA6"
      },
      "execution_count": 63,
      "outputs": []
    },
    {
      "cell_type": "code",
      "source": [
        "print(\"Training accuracy: \", accuracy_score(lr_train_pred,y_train))"
      ],
      "metadata": {
        "colab": {
          "base_uri": "https://localhost:8080/"
        },
        "id": "AfTpCtmVKtEb",
        "outputId": "40de3aff-429b-467d-cac1-d6ada51026c3"
      },
      "execution_count": 65,
      "outputs": [
        {
          "output_type": "stream",
          "name": "stdout",
          "text": [
            "Training accuracy:  0.17142857142857143\n"
          ]
        }
      ]
    },
    {
      "cell_type": "code",
      "source": [
        "print(\"Testing accuracy: \", accuracy_score(lr_test_pred, y_test))"
      ],
      "metadata": {
        "colab": {
          "base_uri": "https://localhost:8080/"
        },
        "id": "cpZ-4RFmK4P4",
        "outputId": "313ecb19-7922-4611-e1a3-b7173e2f2c40"
      },
      "execution_count": 66,
      "outputs": [
        {
          "output_type": "stream",
          "name": "stdout",
          "text": [
            "Testing accuracy:  0.0425531914893617\n"
          ]
        }
      ]
    },
    {
      "cell_type": "code",
      "source": [
        "from sklearn.tree import DecisionTreeClassifier"
      ],
      "metadata": {
        "id": "j-3YpIQJLVVh"
      },
      "execution_count": 67,
      "outputs": []
    },
    {
      "cell_type": "code",
      "source": [
        "dt_id=DecisionTreeClassifier(criterion='entropy', max_depth=8)"
      ],
      "metadata": {
        "id": "SOVAVSelLYJO"
      },
      "execution_count": 68,
      "outputs": []
    },
    {
      "cell_type": "code",
      "source": [
        "dt_id.fit(x_train, y_train)"
      ],
      "metadata": {
        "colab": {
          "base_uri": "https://localhost:8080/",
          "height": 74
        },
        "id": "Ke893hhhLc-K",
        "outputId": "b8443d5c-b6c1-4650-b230-99b9757d4bdc"
      },
      "execution_count": 69,
      "outputs": [
        {
          "output_type": "execute_result",
          "data": {
            "text/plain": [
              "DecisionTreeClassifier(criterion='entropy', max_depth=8)"
            ],
            "text/html": [
              "<style>#sk-container-id-3 {color: black;background-color: white;}#sk-container-id-3 pre{padding: 0;}#sk-container-id-3 div.sk-toggleable {background-color: white;}#sk-container-id-3 label.sk-toggleable__label {cursor: pointer;display: block;width: 100%;margin-bottom: 0;padding: 0.3em;box-sizing: border-box;text-align: center;}#sk-container-id-3 label.sk-toggleable__label-arrow:before {content: \"▸\";float: left;margin-right: 0.25em;color: #696969;}#sk-container-id-3 label.sk-toggleable__label-arrow:hover:before {color: black;}#sk-container-id-3 div.sk-estimator:hover label.sk-toggleable__label-arrow:before {color: black;}#sk-container-id-3 div.sk-toggleable__content {max-height: 0;max-width: 0;overflow: hidden;text-align: left;background-color: #f0f8ff;}#sk-container-id-3 div.sk-toggleable__content pre {margin: 0.2em;color: black;border-radius: 0.25em;background-color: #f0f8ff;}#sk-container-id-3 input.sk-toggleable__control:checked~div.sk-toggleable__content {max-height: 200px;max-width: 100%;overflow: auto;}#sk-container-id-3 input.sk-toggleable__control:checked~label.sk-toggleable__label-arrow:before {content: \"▾\";}#sk-container-id-3 div.sk-estimator input.sk-toggleable__control:checked~label.sk-toggleable__label {background-color: #d4ebff;}#sk-container-id-3 div.sk-label input.sk-toggleable__control:checked~label.sk-toggleable__label {background-color: #d4ebff;}#sk-container-id-3 input.sk-hidden--visually {border: 0;clip: rect(1px 1px 1px 1px);clip: rect(1px, 1px, 1px, 1px);height: 1px;margin: -1px;overflow: hidden;padding: 0;position: absolute;width: 1px;}#sk-container-id-3 div.sk-estimator {font-family: monospace;background-color: #f0f8ff;border: 1px dotted black;border-radius: 0.25em;box-sizing: border-box;margin-bottom: 0.5em;}#sk-container-id-3 div.sk-estimator:hover {background-color: #d4ebff;}#sk-container-id-3 div.sk-parallel-item::after {content: \"\";width: 100%;border-bottom: 1px solid gray;flex-grow: 1;}#sk-container-id-3 div.sk-label:hover label.sk-toggleable__label {background-color: #d4ebff;}#sk-container-id-3 div.sk-serial::before {content: \"\";position: absolute;border-left: 1px solid gray;box-sizing: border-box;top: 0;bottom: 0;left: 50%;z-index: 0;}#sk-container-id-3 div.sk-serial {display: flex;flex-direction: column;align-items: center;background-color: white;padding-right: 0.2em;padding-left: 0.2em;position: relative;}#sk-container-id-3 div.sk-item {position: relative;z-index: 1;}#sk-container-id-3 div.sk-parallel {display: flex;align-items: stretch;justify-content: center;background-color: white;position: relative;}#sk-container-id-3 div.sk-item::before, #sk-container-id-3 div.sk-parallel-item::before {content: \"\";position: absolute;border-left: 1px solid gray;box-sizing: border-box;top: 0;bottom: 0;left: 50%;z-index: -1;}#sk-container-id-3 div.sk-parallel-item {display: flex;flex-direction: column;z-index: 1;position: relative;background-color: white;}#sk-container-id-3 div.sk-parallel-item:first-child::after {align-self: flex-end;width: 50%;}#sk-container-id-3 div.sk-parallel-item:last-child::after {align-self: flex-start;width: 50%;}#sk-container-id-3 div.sk-parallel-item:only-child::after {width: 0;}#sk-container-id-3 div.sk-dashed-wrapped {border: 1px dashed gray;margin: 0 0.4em 0.5em 0.4em;box-sizing: border-box;padding-bottom: 0.4em;background-color: white;}#sk-container-id-3 div.sk-label label {font-family: monospace;font-weight: bold;display: inline-block;line-height: 1.2em;}#sk-container-id-3 div.sk-label-container {text-align: center;}#sk-container-id-3 div.sk-container {/* jupyter's `normalize.less` sets `[hidden] { display: none; }` but bootstrap.min.css set `[hidden] { display: none !important; }` so we also need the `!important` here to be able to override the default hidden behavior on the sphinx rendered scikit-learn.org. See: https://github.com/scikit-learn/scikit-learn/issues/21755 */display: inline-block !important;position: relative;}#sk-container-id-3 div.sk-text-repr-fallback {display: none;}</style><div id=\"sk-container-id-3\" class=\"sk-top-container\"><div class=\"sk-text-repr-fallback\"><pre>DecisionTreeClassifier(criterion=&#x27;entropy&#x27;, max_depth=8)</pre><b>In a Jupyter environment, please rerun this cell to show the HTML representation or trust the notebook. <br />On GitHub, the HTML representation is unable to render, please try loading this page with nbviewer.org.</b></div><div class=\"sk-container\" hidden><div class=\"sk-item\"><div class=\"sk-estimator sk-toggleable\"><input class=\"sk-toggleable__control sk-hidden--visually\" id=\"sk-estimator-id-3\" type=\"checkbox\" checked><label for=\"sk-estimator-id-3\" class=\"sk-toggleable__label sk-toggleable__label-arrow\">DecisionTreeClassifier</label><div class=\"sk-toggleable__content\"><pre>DecisionTreeClassifier(criterion=&#x27;entropy&#x27;, max_depth=8)</pre></div></div></div></div></div>"
            ]
          },
          "metadata": {},
          "execution_count": 69
        }
      ]
    },
    {
      "cell_type": "code",
      "source": [
        "dt_train_pred=dt_id.predict(x_train)\n",
        "dt_test_pred=dt_id.predict(x_test)"
      ],
      "metadata": {
        "id": "FzHSk1_0Lffg"
      },
      "execution_count": 70,
      "outputs": []
    },
    {
      "cell_type": "code",
      "source": [
        "print(\"training accuracy: \",accuracy_score(dt_train_pred,y_train))"
      ],
      "metadata": {
        "colab": {
          "base_uri": "https://localhost:8080/"
        },
        "id": "mMnzPbWGLhXY",
        "outputId": "11094cce-e19d-41d9-e43d-cc31d88f08f0"
      },
      "execution_count": 71,
      "outputs": [
        {
          "output_type": "stream",
          "name": "stdout",
          "text": [
            "training accuracy:  0.8\n"
          ]
        }
      ]
    },
    {
      "cell_type": "code",
      "source": [
        "print(\"testing accuracy: \", accuracy_score(dt_test_pred, y_test))"
      ],
      "metadata": {
        "colab": {
          "base_uri": "https://localhost:8080/"
        },
        "id": "G2ytc57aLnjx",
        "outputId": "572ad5bf-9a95-443b-d171-65935d30d246"
      },
      "execution_count": 72,
      "outputs": [
        {
          "output_type": "stream",
          "name": "stdout",
          "text": [
            "testing accuracy:  0.0851063829787234\n"
          ]
        }
      ]
    },
    {
      "cell_type": "code",
      "source": [
        "from sklearn.tree import plot_tree"
      ],
      "metadata": {
        "id": "GzTUPh71LtNh"
      },
      "execution_count": 73,
      "outputs": []
    },
    {
      "cell_type": "code",
      "source": [
        "plot_tree(dt_id)"
      ],
      "metadata": {
        "colab": {
          "base_uri": "https://localhost:8080/",
          "height": 1000
        },
        "id": "yreAUxPOLwA9",
        "outputId": "e376d58d-5359-4ec5-82ae-efe151251643"
      },
      "execution_count": 74,
      "outputs": [
        {
          "output_type": "execute_result",
          "data": {
            "text/plain": [
              "[Text(0.44632352941176473, 0.9444444444444444, 'x[3] <= 121.5\\nentropy = 2.842\\nsamples = 140\\nvalue = [20, 23, 18, 19, 21, 21, 17, 1]'),\n",
              " Text(0.3014705882352941, 0.8333333333333334, 'x[3] <= 10.5\\nentropy = 2.8\\nsamples = 137\\nvalue = [18, 23, 18, 19, 21, 21, 17, 0]'),\n",
              " Text(0.047058823529411764, 0.7222222222222222, 'x[0] <= 14.5\\nentropy = 2.134\\nsamples = 13\\nvalue = [0, 3, 0, 2, 1, 5, 2, 0]'),\n",
              " Text(0.023529411764705882, 0.6111111111111112, 'x[2] <= 5.5\\nentropy = 1.522\\nsamples = 5\\nvalue = [0, 0, 0, 0, 1, 2, 2, 0]'),\n",
              " Text(0.011764705882352941, 0.5, 'entropy = 0.0\\nsamples = 2\\nvalue = [0, 0, 0, 0, 0, 2, 0, 0]'),\n",
              " Text(0.03529411764705882, 0.5, 'x[1] <= 11.0\\nentropy = 0.918\\nsamples = 3\\nvalue = [0, 0, 0, 0, 1, 0, 2, 0]'),\n",
              " Text(0.023529411764705882, 0.3888888888888889, 'entropy = 0.0\\nsamples = 1\\nvalue = [0, 0, 0, 0, 1, 0, 0, 0]'),\n",
              " Text(0.047058823529411764, 0.3888888888888889, 'entropy = 0.0\\nsamples = 2\\nvalue = [0, 0, 0, 0, 0, 0, 2, 0]'),\n",
              " Text(0.07058823529411765, 0.6111111111111112, 'x[2] <= 19.0\\nentropy = 1.561\\nsamples = 8\\nvalue = [0, 3, 0, 2, 0, 3, 0, 0]'),\n",
              " Text(0.058823529411764705, 0.5, 'entropy = 0.0\\nsamples = 3\\nvalue = [0, 3, 0, 0, 0, 0, 0, 0]'),\n",
              " Text(0.08235294117647059, 0.5, 'x[1] <= 20.5\\nentropy = 0.971\\nsamples = 5\\nvalue = [0, 0, 0, 2, 0, 3, 0, 0]'),\n",
              " Text(0.07058823529411765, 0.3888888888888889, 'entropy = 0.0\\nsamples = 1\\nvalue = [0, 0, 0, 1, 0, 0, 0, 0]'),\n",
              " Text(0.09411764705882353, 0.3888888888888889, 'x[3] <= 8.5\\nentropy = 0.811\\nsamples = 4\\nvalue = [0, 0, 0, 1, 0, 3, 0, 0]'),\n",
              " Text(0.08235294117647059, 0.2777777777777778, 'entropy = 0.0\\nsamples = 3\\nvalue = [0, 0, 0, 0, 0, 3, 0, 0]'),\n",
              " Text(0.10588235294117647, 0.2777777777777778, 'entropy = 0.0\\nsamples = 1\\nvalue = [0, 0, 0, 1, 0, 0, 0, 0]'),\n",
              " Text(0.5558823529411765, 0.7222222222222222, 'x[3] <= 69.5\\nentropy = 2.8\\nsamples = 124\\nvalue = [18, 20, 18, 17, 20, 16, 15, 0]'),\n",
              " Text(0.3573529411764706, 0.6111111111111112, 'x[0] <= 8.5\\nentropy = 2.742\\nsamples = 65\\nvalue = [13, 9, 8, 7, 13, 5, 10, 0]'),\n",
              " Text(0.2323529411764706, 0.5, 'x[1] <= 2.5\\nentropy = 2.608\\nsamples = 22\\nvalue = [4, 3, 5, 5, 1, 3, 1, 0]'),\n",
              " Text(0.17058823529411765, 0.3888888888888889, 'x[3] <= 62.5\\nentropy = 2.414\\nsamples = 14\\nvalue = [4, 3, 3, 2, 1, 0, 1, 0]'),\n",
              " Text(0.12941176470588237, 0.2777777777777778, 'x[3] <= 44.0\\nentropy = 1.891\\nsamples = 9\\nvalue = [1, 3, 3, 2, 0, 0, 0, 0]'),\n",
              " Text(0.10588235294117647, 0.16666666666666666, 'x[1] <= 0.5\\nentropy = 1.522\\nsamples = 5\\nvalue = [0, 1, 2, 2, 0, 0, 0, 0]'),\n",
              " Text(0.09411764705882353, 0.05555555555555555, 'entropy = 1.0\\nsamples = 2\\nvalue = [0, 1, 1, 0, 0, 0, 0, 0]'),\n",
              " Text(0.11764705882352941, 0.05555555555555555, 'entropy = 0.918\\nsamples = 3\\nvalue = [0, 0, 1, 2, 0, 0, 0, 0]'),\n",
              " Text(0.15294117647058825, 0.16666666666666666, 'x[0] <= 0.5\\nentropy = 1.5\\nsamples = 4\\nvalue = [1, 2, 1, 0, 0, 0, 0, 0]'),\n",
              " Text(0.1411764705882353, 0.05555555555555555, 'entropy = 0.0\\nsamples = 1\\nvalue = [1, 0, 0, 0, 0, 0, 0, 0]'),\n",
              " Text(0.16470588235294117, 0.05555555555555555, 'entropy = 0.918\\nsamples = 3\\nvalue = [0, 2, 1, 0, 0, 0, 0, 0]'),\n",
              " Text(0.21176470588235294, 0.2777777777777778, 'x[3] <= 67.0\\nentropy = 1.371\\nsamples = 5\\nvalue = [3, 0, 0, 0, 1, 0, 1, 0]'),\n",
              " Text(0.2, 0.16666666666666666, 'x[0] <= 0.5\\nentropy = 0.811\\nsamples = 4\\nvalue = [3, 0, 0, 0, 0, 0, 1, 0]'),\n",
              " Text(0.18823529411764706, 0.05555555555555555, 'entropy = 0.0\\nsamples = 2\\nvalue = [2, 0, 0, 0, 0, 0, 0, 0]'),\n",
              " Text(0.21176470588235294, 0.05555555555555555, 'entropy = 1.0\\nsamples = 2\\nvalue = [1, 0, 0, 0, 0, 0, 1, 0]'),\n",
              " Text(0.2235294117647059, 0.16666666666666666, 'entropy = 0.0\\nsamples = 1\\nvalue = [0, 0, 0, 0, 1, 0, 0, 0]'),\n",
              " Text(0.29411764705882354, 0.3888888888888889, 'x[2] <= 4.5\\nentropy = 1.561\\nsamples = 8\\nvalue = [0, 0, 2, 3, 0, 3, 0, 0]'),\n",
              " Text(0.25882352941176473, 0.2777777777777778, 'x[3] <= 47.5\\nentropy = 1.522\\nsamples = 5\\nvalue = [0, 0, 2, 2, 0, 1, 0, 0]'),\n",
              " Text(0.24705882352941178, 0.16666666666666666, 'entropy = 0.0\\nsamples = 1\\nvalue = [0, 0, 0, 0, 0, 1, 0, 0]'),\n",
              " Text(0.27058823529411763, 0.16666666666666666, 'x[3] <= 55.0\\nentropy = 1.0\\nsamples = 4\\nvalue = [0, 0, 2, 2, 0, 0, 0, 0]'),\n",
              " Text(0.25882352941176473, 0.05555555555555555, 'entropy = 0.0\\nsamples = 1\\nvalue = [0, 0, 0, 1, 0, 0, 0, 0]'),\n",
              " Text(0.2823529411764706, 0.05555555555555555, 'entropy = 0.918\\nsamples = 3\\nvalue = [0, 0, 2, 1, 0, 0, 0, 0]'),\n",
              " Text(0.32941176470588235, 0.2777777777777778, 'x[1] <= 5.5\\nentropy = 0.918\\nsamples = 3\\nvalue = [0, 0, 0, 1, 0, 2, 0, 0]'),\n",
              " Text(0.3176470588235294, 0.16666666666666666, 'x[3] <= 63.5\\nentropy = 1.0\\nsamples = 2\\nvalue = [0, 0, 0, 1, 0, 1, 0, 0]'),\n",
              " Text(0.3058823529411765, 0.05555555555555555, 'entropy = 0.0\\nsamples = 1\\nvalue = [0, 0, 0, 0, 0, 1, 0, 0]'),\n",
              " Text(0.32941176470588235, 0.05555555555555555, 'entropy = 0.0\\nsamples = 1\\nvalue = [0, 0, 0, 1, 0, 0, 0, 0]'),\n",
              " Text(0.3411764705882353, 0.16666666666666666, 'entropy = 0.0\\nsamples = 1\\nvalue = [0, 0, 0, 0, 0, 1, 0, 0]'),\n",
              " Text(0.4823529411764706, 0.5, 'x[3] <= 48.5\\nentropy = 2.535\\nsamples = 43\\nvalue = [9, 6, 3, 2, 12, 2, 9, 0]'),\n",
              " Text(0.43529411764705883, 0.3888888888888889, 'x[2] <= 20.5\\nentropy = 2.619\\nsamples = 31\\nvalue = [9, 6, 3, 2, 5, 2, 4, 0]'),\n",
              " Text(0.38823529411764707, 0.2777777777777778, 'x[2] <= 15.5\\nentropy = 1.826\\nsamples = 15\\nvalue = [5, 1, 0, 0, 5, 0, 4, 0]'),\n",
              " Text(0.36470588235294116, 0.16666666666666666, 'x[3] <= 18.5\\nentropy = 0.722\\nsamples = 5\\nvalue = [0, 0, 0, 0, 4, 0, 1, 0]'),\n",
              " Text(0.35294117647058826, 0.05555555555555555, 'entropy = 1.0\\nsamples = 2\\nvalue = [0, 0, 0, 0, 1, 0, 1, 0]'),\n",
              " Text(0.3764705882352941, 0.05555555555555555, 'entropy = 0.0\\nsamples = 3\\nvalue = [0, 0, 0, 0, 3, 0, 0, 0]'),\n",
              " Text(0.4117647058823529, 0.16666666666666666, 'x[3] <= 33.0\\nentropy = 1.685\\nsamples = 10\\nvalue = [5, 1, 0, 0, 1, 0, 3, 0]'),\n",
              " Text(0.4, 0.05555555555555555, 'entropy = 0.65\\nsamples = 6\\nvalue = [5, 1, 0, 0, 0, 0, 0, 0]'),\n",
              " Text(0.4235294117647059, 0.05555555555555555, 'entropy = 0.811\\nsamples = 4\\nvalue = [0, 0, 0, 0, 1, 0, 3, 0]'),\n",
              " Text(0.4823529411764706, 0.2777777777777778, 'x[3] <= 24.0\\nentropy = 2.227\\nsamples = 16\\nvalue = [4, 5, 3, 2, 0, 2, 0, 0]'),\n",
              " Text(0.4588235294117647, 0.16666666666666666, 'x[1] <= 23.0\\nentropy = 1.585\\nsamples = 6\\nvalue = [0, 0, 2, 2, 0, 2, 0, 0]'),\n",
              " Text(0.4470588235294118, 0.05555555555555555, 'entropy = 0.0\\nsamples = 2\\nvalue = [0, 0, 2, 0, 0, 0, 0, 0]'),\n",
              " Text(0.47058823529411764, 0.05555555555555555, 'entropy = 1.0\\nsamples = 4\\nvalue = [0, 0, 0, 2, 0, 2, 0, 0]'),\n",
              " Text(0.5058823529411764, 0.16666666666666666, 'x[3] <= 35.0\\nentropy = 1.361\\nsamples = 10\\nvalue = [4, 5, 1, 0, 0, 0, 0, 0]'),\n",
              " Text(0.49411764705882355, 0.05555555555555555, 'entropy = 0.811\\nsamples = 4\\nvalue = [0, 3, 1, 0, 0, 0, 0, 0]'),\n",
              " Text(0.5176470588235295, 0.05555555555555555, 'entropy = 0.918\\nsamples = 6\\nvalue = [4, 2, 0, 0, 0, 0, 0, 0]'),\n",
              " Text(0.5294117647058824, 0.3888888888888889, 'x[0] <= 20.5\\nentropy = 0.98\\nsamples = 12\\nvalue = [0, 0, 0, 0, 7, 0, 5, 0]'),\n",
              " Text(0.5176470588235295, 0.2777777777777778, 'entropy = 0.0\\nsamples = 3\\nvalue = [0, 0, 0, 0, 3, 0, 0, 0]'),\n",
              " Text(0.5411764705882353, 0.2777777777777778, 'x[3] <= 61.0\\nentropy = 0.991\\nsamples = 9\\nvalue = [0, 0, 0, 0, 4, 0, 5, 0]'),\n",
              " Text(0.5294117647058824, 0.16666666666666666, 'entropy = 0.0\\nsamples = 4\\nvalue = [0, 0, 0, 0, 0, 0, 4, 0]'),\n",
              " Text(0.5529411764705883, 0.16666666666666666, 'x[0] <= 24.5\\nentropy = 0.722\\nsamples = 5\\nvalue = [0, 0, 0, 0, 4, 0, 1, 0]'),\n",
              " Text(0.5411764705882353, 0.05555555555555555, 'entropy = 0.0\\nsamples = 4\\nvalue = [0, 0, 0, 0, 4, 0, 0, 0]'),\n",
              " Text(0.5647058823529412, 0.05555555555555555, 'entropy = 0.0\\nsamples = 1\\nvalue = [0, 0, 0, 0, 0, 0, 1, 0]'),\n",
              " Text(0.7544117647058823, 0.6111111111111112, 'x[1] <= 10.5\\nentropy = 2.74\\nsamples = 59\\nvalue = [5, 11, 10, 10, 7, 11, 5, 0]'),\n",
              " Text(0.6735294117647059, 0.5, 'x[3] <= 94.0\\nentropy = 2.713\\nsamples = 32\\nvalue = [3, 7, 4, 3, 7, 3, 5, 0]'),\n",
              " Text(0.6294117647058823, 0.3888888888888889, 'x[2] <= 4.5\\nentropy = 2.672\\nsamples = 24\\nvalue = [3, 7, 4, 3, 2, 3, 2, 0]'),\n",
              " Text(0.5882352941176471, 0.2777777777777778, 'x[3] <= 71.0\\nentropy = 1.918\\nsamples = 6\\nvalue = [1, 1, 0, 0, 2, 0, 2, 0]'),\n",
              " Text(0.5764705882352941, 0.16666666666666666, 'entropy = 0.0\\nsamples = 1\\nvalue = [0, 1, 0, 0, 0, 0, 0, 0]'),\n",
              " Text(0.6, 0.16666666666666666, 'x[0] <= 1.5\\nentropy = 1.522\\nsamples = 5\\nvalue = [1, 0, 0, 0, 2, 0, 2, 0]'),\n",
              " Text(0.5882352941176471, 0.05555555555555555, 'entropy = 0.0\\nsamples = 1\\nvalue = [0, 0, 0, 0, 1, 0, 0, 0]'),\n",
              " Text(0.611764705882353, 0.05555555555555555, 'entropy = 1.5\\nsamples = 4\\nvalue = [1, 0, 0, 0, 1, 0, 2, 0]'),\n",
              " Text(0.6705882352941176, 0.2777777777777778, 'x[3] <= 80.5\\nentropy = 2.224\\nsamples = 18\\nvalue = [2, 6, 4, 3, 0, 3, 0, 0]'),\n",
              " Text(0.6470588235294118, 0.16666666666666666, 'x[0] <= 6.5\\nentropy = 1.891\\nsamples = 9\\nvalue = [0, 2, 1, 3, 0, 3, 0, 0]'),\n",
              " Text(0.6352941176470588, 0.05555555555555555, 'entropy = 0.918\\nsamples = 3\\nvalue = [0, 2, 0, 1, 0, 0, 0, 0]'),\n",
              " Text(0.6588235294117647, 0.05555555555555555, 'entropy = 1.459\\nsamples = 6\\nvalue = [0, 0, 1, 2, 0, 3, 0, 0]'),\n",
              " Text(0.6941176470588235, 0.16666666666666666, 'x[3] <= 84.5\\nentropy = 1.53\\nsamples = 9\\nvalue = [2, 4, 3, 0, 0, 0, 0, 0]'),\n",
              " Text(0.6823529411764706, 0.05555555555555555, 'entropy = 0.918\\nsamples = 3\\nvalue = [0, 1, 2, 0, 0, 0, 0, 0]'),\n",
              " Text(0.7058823529411765, 0.05555555555555555, 'entropy = 1.459\\nsamples = 6\\nvalue = [2, 3, 1, 0, 0, 0, 0, 0]'),\n",
              " Text(0.7176470588235294, 0.3888888888888889, 'x[0] <= 6.5\\nentropy = 0.954\\nsamples = 8\\nvalue = [0, 0, 0, 0, 5, 0, 3, 0]'),\n",
              " Text(0.7058823529411765, 0.2777777777777778, 'entropy = 0.0\\nsamples = 2\\nvalue = [0, 0, 0, 0, 2, 0, 0, 0]'),\n",
              " Text(0.7294117647058823, 0.2777777777777778, 'x[3] <= 105.0\\nentropy = 1.0\\nsamples = 6\\nvalue = [0, 0, 0, 0, 3, 0, 3, 0]'),\n",
              " Text(0.7176470588235294, 0.16666666666666666, 'entropy = 0.0\\nsamples = 2\\nvalue = [0, 0, 0, 0, 0, 0, 2, 0]'),\n",
              " Text(0.7411764705882353, 0.16666666666666666, 'x[1] <= 9.5\\nentropy = 0.811\\nsamples = 4\\nvalue = [0, 0, 0, 0, 3, 0, 1, 0]'),\n",
              " Text(0.7294117647058823, 0.05555555555555555, 'entropy = 0.0\\nsamples = 3\\nvalue = [0, 0, 0, 0, 3, 0, 0, 0]'),\n",
              " Text(0.7529411764705882, 0.05555555555555555, 'entropy = 0.0\\nsamples = 1\\nvalue = [0, 0, 0, 0, 0, 0, 1, 0]'),\n",
              " Text(0.8352941176470589, 0.5, 'x[3] <= 95.0\\nentropy = 2.193\\nsamples = 27\\nvalue = [2, 4, 6, 7, 0, 8, 0, 0]'),\n",
              " Text(0.7647058823529411, 0.3888888888888889, 'x[3] <= 86.5\\nentropy = 0.985\\nsamples = 7\\nvalue = [0, 0, 0, 3, 0, 4, 0, 0]'),\n",
              " Text(0.7529411764705882, 0.2777777777777778, 'entropy = 0.0\\nsamples = 2\\nvalue = [0, 0, 0, 0, 0, 2, 0, 0]'),\n",
              " Text(0.7764705882352941, 0.2777777777777778, 'x[0] <= 12.5\\nentropy = 0.971\\nsamples = 5\\nvalue = [0, 0, 0, 3, 0, 2, 0, 0]'),\n",
              " Text(0.7647058823529411, 0.16666666666666666, 'entropy = 0.0\\nsamples = 2\\nvalue = [0, 0, 0, 2, 0, 0, 0, 0]'),\n",
              " Text(0.788235294117647, 0.16666666666666666, 'x[3] <= 93.5\\nentropy = 0.918\\nsamples = 3\\nvalue = [0, 0, 0, 1, 0, 2, 0, 0]'),\n",
              " Text(0.7764705882352941, 0.05555555555555555, 'entropy = 0.0\\nsamples = 2\\nvalue = [0, 0, 0, 0, 0, 2, 0, 0]'),\n",
              " Text(0.8, 0.05555555555555555, 'entropy = 0.0\\nsamples = 1\\nvalue = [0, 0, 0, 1, 0, 0, 0, 0]'),\n",
              " Text(0.9058823529411765, 0.3888888888888889, 'x[1] <= 15.5\\nentropy = 2.246\\nsamples = 20\\nvalue = [2, 4, 6, 4, 0, 4, 0, 0]'),\n",
              " Text(0.8588235294117647, 0.2777777777777778, 'x[2] <= 12.5\\nentropy = 1.823\\nsamples = 11\\nvalue = [2, 4, 4, 1, 0, 0, 0, 0]'),\n",
              " Text(0.8352941176470589, 0.16666666666666666, 'x[3] <= 106.5\\nentropy = 1.522\\nsamples = 5\\nvalue = [2, 2, 1, 0, 0, 0, 0, 0]'),\n",
              " Text(0.8235294117647058, 0.05555555555555555, 'entropy = 0.918\\nsamples = 3\\nvalue = [0, 2, 1, 0, 0, 0, 0, 0]'),\n",
              " Text(0.8470588235294118, 0.05555555555555555, 'entropy = 0.0\\nsamples = 2\\nvalue = [2, 0, 0, 0, 0, 0, 0, 0]'),\n",
              " Text(0.8823529411764706, 0.16666666666666666, 'x[3] <= 100.5\\nentropy = 1.459\\nsamples = 6\\nvalue = [0, 2, 3, 1, 0, 0, 0, 0]'),\n",
              " Text(0.8705882352941177, 0.05555555555555555, 'entropy = 0.0\\nsamples = 1\\nvalue = [0, 0, 0, 1, 0, 0, 0, 0]'),\n",
              " Text(0.8941176470588236, 0.05555555555555555, 'entropy = 0.971\\nsamples = 5\\nvalue = [0, 2, 3, 0, 0, 0, 0, 0]'),\n",
              " Text(0.9529411764705882, 0.2777777777777778, 'x[3] <= 115.5\\nentropy = 1.53\\nsamples = 9\\nvalue = [0, 0, 2, 3, 0, 4, 0, 0]'),\n",
              " Text(0.9294117647058824, 0.16666666666666666, 'x[3] <= 109.0\\nentropy = 0.811\\nsamples = 4\\nvalue = [0, 0, 0, 1, 0, 3, 0, 0]'),\n",
              " Text(0.9176470588235294, 0.05555555555555555, 'entropy = 0.0\\nsamples = 2\\nvalue = [0, 0, 0, 0, 0, 2, 0, 0]'),\n",
              " Text(0.9411764705882353, 0.05555555555555555, 'entropy = 1.0\\nsamples = 2\\nvalue = [0, 0, 0, 1, 0, 1, 0, 0]'),\n",
              " Text(0.9764705882352941, 0.16666666666666666, 'x[0] <= 17.5\\nentropy = 1.522\\nsamples = 5\\nvalue = [0, 0, 2, 2, 0, 1, 0, 0]'),\n",
              " Text(0.9647058823529412, 0.05555555555555555, 'entropy = 0.0\\nsamples = 2\\nvalue = [0, 0, 2, 0, 0, 0, 0, 0]'),\n",
              " Text(0.9882352941176471, 0.05555555555555555, 'entropy = 0.918\\nsamples = 3\\nvalue = [0, 0, 0, 2, 0, 1, 0, 0]'),\n",
              " Text(0.5911764705882353, 0.8333333333333334, 'x[0] <= 26.5\\nentropy = 0.918\\nsamples = 3\\nvalue = [2, 0, 0, 0, 0, 0, 0, 1]'),\n",
              " Text(0.5794117647058824, 0.7222222222222222, 'entropy = 0.0\\nsamples = 2\\nvalue = [2, 0, 0, 0, 0, 0, 0, 0]'),\n",
              " Text(0.6029411764705882, 0.7222222222222222, 'entropy = 0.0\\nsamples = 1\\nvalue = [0, 0, 0, 0, 0, 0, 0, 1]')]"
            ]
          },
          "metadata": {},
          "execution_count": 74
        },
        {
          "output_type": "display_data",
          "data": {
            "text/plain": [
              "<Figure size 640x480 with 1 Axes>"
            ],
            "image/png": "[encoded data removed]"
          },
          "metadata": {}
        }
      ]
    },
    {
      "cell_type": "code",
      "source": [],
      "metadata": {
        "id": "6PQKhlp9LyPL"
      },
      "execution_count": null,
      "outputs": []
    }
  ]
}